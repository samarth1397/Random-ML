{
 "cells": [
  {
   "cell_type": "markdown",
   "metadata": {},
   "source": [
    "### Writing your own Naive-Bayes Classifier"
   ]
  },
  {
   "cell_type": "code",
   "execution_count": 1,
   "metadata": {
    "collapsed": true
   },
   "outputs": [],
   "source": [
    "import pandas as pd\n",
    "import numpy as np\n",
    "import math"
   ]
  },
  {
   "cell_type": "markdown",
   "metadata": {},
   "source": [
    "Load data"
   ]
  },
  {
   "cell_type": "code",
   "execution_count": 33,
   "metadata": {
    "collapsed": false
   },
   "outputs": [
    {
     "name": "stdout",
     "output_type": "stream",
     "text": [
      "768\n"
     ]
    }
   ],
   "source": [
    "df=pd.read_csv('pima-indians-diabetes.data.csv',header=None)\n",
    "df.head()\n",
    "print(len(df))\n",
    "df.columns = ['0', '1','2','3','4','5','6','7','8']"
   ]
  },
  {
   "cell_type": "markdown",
   "metadata": {
    "collapsed": false
   },
   "source": [
    "split into training and testing"
   ]
  },
  {
   "cell_type": "code",
   "execution_count": 34,
   "metadata": {
    "collapsed": false
   },
   "outputs": [
    {
     "name": "stdout",
     "output_type": "stream",
     "text": [
      "500\n",
      "268\n"
     ]
    }
   ],
   "source": [
    "df=df.sample(frac=1) #shuffle rows\n",
    "df_train=df[:500] #choose first 500 as training data\n",
    "print(len(df_train)) \n",
    "df_test=df[500:]    # remaining rows as testing data\n",
    "print(len(df_test))\n",
    "y_test=df_test['8']"
   ]
  },
  {
   "cell_type": "markdown",
   "metadata": {},
   "source": [
    "Splitting by class"
   ]
  },
  {
   "cell_type": "code",
   "execution_count": 35,
   "metadata": {
    "collapsed": false
   },
   "outputs": [
    {
     "data": {
      "text/plain": [
       "179"
      ]
     },
     "execution_count": 35,
     "metadata": {},
     "output_type": "execute_result"
    }
   ],
   "source": [
    "df_class0=df_train.loc[df['8'] == 0]\n",
    "len(df_class0)\n",
    "df_class1=df_train.loc[df['8'] == 1]\n",
    "len(df_class1)"
   ]
  },
  {
   "cell_type": "markdown",
   "metadata": {},
   "source": [
    "Function to calculate normal probability densities. (Gaussian Naive Bayes)"
   ]
  },
  {
   "cell_type": "code",
   "execution_count": 36,
   "metadata": {
    "collapsed": true
   },
   "outputs": [],
   "source": [
    "def probabilityNormal(mean,std,x):\n",
    "    m=2*22/7\n",
    "    denom=(math.sqrt(m)*std)\n",
    "    s=(x-mean)**2\n",
    "    num=math.exp((-1*s)/(2*(std**2)))\n",
    "    value=num/denom\n",
    "    return value"
   ]
  },
  {
   "cell_type": "markdown",
   "metadata": {},
   "source": [
    "storing mean and standard deviation for each variable in a dictionary. Separate dictionaries for different classes"
   ]
  },
  {
   "cell_type": "code",
   "execution_count": 37,
   "metadata": {
    "collapsed": false
   },
   "outputs": [
    {
     "name": "stdout",
     "output_type": "stream",
     "text": [
      "{'6': (0.4209626168224298, 0.29681418614704186), '3': (20.11214953271028, 14.85702302541024), '2': (68.43613707165109, 17.09376172851232), '5': (30.465420560747653, 7.9031374640519125), '1': (110.56386292834891, 25.222568069709965), '4': (73.8380062305296, 104.3184064583644), '0': (3.4018691588785046, 3.0471087107825836), '7': (30.9595015576324, 11.223089135829719)}\n"
     ]
    },
    {
     "data": {
      "text/plain": [
       "{'0': (4.804469273743017, 3.9019992171839952),\n",
       " '1': (140.11173184357543, 31.00505262948124),\n",
       " '2': (69.20670391061452, 22.719015442361613),\n",
       " '3': (21.681564245810055, 17.35272687861068),\n",
       " '4': (92.06703910614524, 125.23647733703875),\n",
       " '5': (35.00502793296089, 7.793978327745894),\n",
       " '6': (0.5526256983240226, 0.37832161813940307),\n",
       " '7': (35.74860335195531, 10.491753623957791)}"
      ]
     },
     "execution_count": 37,
     "metadata": {},
     "output_type": "execute_result"
    }
   ],
   "source": [
    "dict_class0=dict()\n",
    "for i in df_class0.columns[:-1]:\n",
    "    mean=df_class0[i].mean()\n",
    "    std=df_class0[i].std() \n",
    "    dict_class0[i]=(mean,std)\n",
    "print(dict_class0)\n",
    "dict_class1=dict()\n",
    "for i in df_class1.columns[:-1]:\n",
    "    mean=df_class1[i].mean()\n",
    "    std=df_class1[i].std() \n",
    "    dict_class1[i]=(mean,std)\n",
    "dict_class1"
   ]
  },
  {
   "cell_type": "markdown",
   "metadata": {},
   "source": [
    "P(Y==0) and P(Y==1)"
   ]
  },
  {
   "cell_type": "code",
   "execution_count": 38,
   "metadata": {
    "collapsed": true
   },
   "outputs": [],
   "source": [
    "probClass0=len(df_class0)/(len(df_class0)+len(df_class1))\n",
    "probClass1=len(df_class1)/(len(df_class0)+len(df_class1))"
   ]
  },
  {
   "cell_type": "markdown",
   "metadata": {},
   "source": [
    "A list to store the final predictions"
   ]
  },
  {
   "cell_type": "code",
   "execution_count": 39,
   "metadata": {
    "collapsed": true
   },
   "outputs": [],
   "source": [
    "y_pred=list()"
   ]
  },
  {
   "cell_type": "markdown",
   "metadata": {},
   "source": [
    "Function to multiply a list"
   ]
  },
  {
   "cell_type": "code",
   "execution_count": 40,
   "metadata": {
    "collapsed": true
   },
   "outputs": [],
   "source": [
    "def multplyList(l):\n",
    "    mul=1\n",
    "    for i in l:\n",
    "        mul=mul*i\n",
    "    return mul"
   ]
  },
  {
   "cell_type": "code",
   "execution_count": 41,
   "metadata": {
    "collapsed": false
   },
   "outputs": [],
   "source": [
    "for index, row in df_test.iterrows():\n",
    "    l_0=list()\n",
    "    l_1=list()\n",
    "    for i in df_test.columns[:-1]:\n",
    "        tup0=dict_class0[i]\n",
    "        m0=tup0[0]\n",
    "        s0=tup0[1]\n",
    "        tup1=dict_class1[i]\n",
    "        m1=tup0[0]\n",
    "        s1=tup0[1]\n",
    "        x=row[i]\n",
    "        l_0.append(probabilityNormal(m0,s0,x))\n",
    "        l_1.append(probabilityNormal(m1,s1,x))\n",
    "    mul0=multplyList(l_0)*probClass0\n",
    "    mul1=multplyList(l_1)*probClass1\n",
    "#     print(mul0)\n",
    "#     print(mul1)\n",
    "    if mul0>mul1:\n",
    "        y_pred.append(0)\n",
    "    else:\n",
    "        y_pred.append(1)"
   ]
  },
  {
   "cell_type": "markdown",
   "metadata": {},
   "source": [
    "Print final accuracy"
   ]
  },
  {
   "cell_type": "code",
   "execution_count": 42,
   "metadata": {
    "collapsed": true
   },
   "outputs": [],
   "source": [
    "from sklearn.metrics import accuracy_score"
   ]
  },
  {
   "cell_type": "code",
   "execution_count": 43,
   "metadata": {
    "collapsed": false
   },
   "outputs": [
    {
     "data": {
      "text/plain": [
       "0.66791044776119401"
      ]
     },
     "execution_count": 43,
     "metadata": {},
     "output_type": "execute_result"
    }
   ],
   "source": [
    "accuracy_score(y_true=y_test,y_pred=y_pred)"
   ]
  }
 ],
 "metadata": {
  "anaconda-cloud": {},
  "kernelspec": {
   "display_name": "Python [conda root]",
   "language": "python",
   "name": "conda-root-py"
  },
  "language_info": {
   "codemirror_mode": {
    "name": "ipython",
    "version": 3
   },
   "file_extension": ".py",
   "mimetype": "text/x-python",
   "name": "python",
   "nbconvert_exporter": "python",
   "pygments_lexer": "ipython3",
   "version": "3.5.2"
  }
 },
 "nbformat": 4,
 "nbformat_minor": 1
}
